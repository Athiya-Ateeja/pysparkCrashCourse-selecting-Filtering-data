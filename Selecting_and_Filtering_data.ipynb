{
 "cells": [
  {
   "cell_type": "code",
   "execution_count": 0,
   "metadata": {
    "application/vnd.databricks.v1+cell": {
     "cellMetadata": {
      "byteLimit": 2048000,
      "rowLimit": 10000
     },
     "inputWidgets": {},
     "nuid": "4014cbc0-3aa6-4218-bf28-6d4d5b5786a5",
     "showTitle": false,
     "title": ""
    }
   },
   "outputs": [],
   "source": [
    "df = spark.read.csv(\"dbfs:/FileStore/shared_uploads/athiyastudies@gmail.com/original.csv\",header=True)"
   ]
  },
  {
   "cell_type": "code",
   "execution_count": 0,
   "metadata": {
    "application/vnd.databricks.v1+cell": {
     "cellMetadata": {
      "byteLimit": 2048000,
      "rowLimit": 10000
     },
     "inputWidgets": {},
     "nuid": "101540df-0129-40ae-9293-fd474d566b26",
     "showTitle": false,
     "title": ""
    }
   },
   "outputs": [
    {
     "output_type": "stream",
     "name": "stdout",
     "output_type": "stream",
     "text": [
      "+---+----------+----------+------+---------------+--------------------+---------+----------+-----------+\n| id|first_name| last_name|gender|           City|            JobTitle|   Salary|  Latitude|  Longitude|\n+---+----------+----------+------+---------------+--------------------+---------+----------+-----------+\n|  1|   Melinde| Shilburne|Female|      Nowa Ruda| Assistant Professor|$57438.18|50.5774075| 16.4967184|\n|  2|  Kimberly|Von Welden|Female|         Bulgan|       Programmer II|$62846.60|48.8231572|103.5218199|\n|  3|    Alvera|  Di Boldi|Female|           null|                null|$57576.52|39.9947462|116.3397725|\n|  4|   Shannon| O'Griffin|  Male|  Divnomorskoye|Budget/Accounting...|$61489.23|44.5047212| 38.1300171|\n|  5|  Sherwood|   Macieja|  Male|      Mytishchi|            VP Sales|$63863.09|      null| 37.6489954|\n|  6|     Maris|      Folk|Female|Kinsealy-Drinan|      Civil Engineer|$30101.16|53.4266145| -6.1644997|\n|  7|     Masha|    Divers|Female|         Dachun|                null|$25090.87| 24.879416| 118.930111|\n|  8|   Goddart|     Flear|  Male|      Trélissac|Desktop Support T...|$46116.36|45.1905186|  0.7423124|\n|  9|      Roth|O'Cannavan|  Male|         Heitan|VP Product Manage...|$73697.10| 32.027934| 106.657113|\n| 10|      Bran|   Trahear|  Male|       Arbeláez|Mechanical System...|$68098.42|  4.272793| -74.416014|\n| 11|    Kylynn|   Lockart|Female|       El Cardo|Nuclear Power Eng...|$13604.63|     -5.85|-79.8833329|\n| 12|       Rey|    Meharg|Female|    Wangqingtuo|Systems Administr...|$73423.70| 39.172378| 116.931607|\n| 13|      Kerr|    Braden|  Male|      Sułkowice|Compensation Analyst|$33432.99|49.8151822| 19.3771749|\n| 14|    Mickie| Whanstall|  Male|    Springfield|Assistant Media P...|$50838.53|42.1014803|-72.5766759|\n| 15|    Kaspar|     Pally|  Male|         Chrást|  Analyst Programmer|$40163.03|49.7923299| 13.4915324|\n| 16|    Norbie|    Gwyllt|  Male|         Xijiao|              Editor|$32492.73|43.4945737|  5.8978018|\n| 17|    Claude|    Briant|Female|      Mieścisko|Research Assistan...|$51862.48|52.7441662| 17.3278637|\n| 18|     Thain|    Habbon|  Male| Foros do Trapo|     Design Engineer|$42135.67| 38.696249| -8.7098337|\n| 19|  Tiffanie|  Pattison|Female|    Jabungsisir|Senior Financial ...|$91925.08|-7.7232567|113.4686802|\n| 20|    Ettore|  Gerriets|  Male|          Pedra| Staff Accountant IV|$73921.33|40.7172049| -8.3625148|\n+---+----------+----------+------+---------------+--------------------+---------+----------+-----------+\nonly showing top 20 rows\n\n"
     ]
    }
   ],
   "source": [
    "df.show()"
   ]
  },
  {
   "cell_type": "code",
   "execution_count": 0,
   "metadata": {
    "application/vnd.databricks.v1+cell": {
     "cellMetadata": {
      "byteLimit": 2048000,
      "rowLimit": 10000
     },
     "inputWidgets": {},
     "nuid": "a7e22b23-5e00-47c8-8e3a-a5fcc247c402",
     "showTitle": false,
     "title": ""
    }
   },
   "outputs": [
    {
     "output_type": "stream",
     "name": "stdout",
     "output_type": "stream",
     "text": [
      "+----------+----------+\n|first_name| last_name|\n+----------+----------+\n|   Melinde| Shilburne|\n|  Kimberly|Von Welden|\n|    Alvera|  Di Boldi|\n|   Shannon| O'Griffin|\n|  Sherwood|   Macieja|\n|     Maris|      Folk|\n|     Masha|    Divers|\n|   Goddart|     Flear|\n|      Roth|O'Cannavan|\n|      Bran|   Trahear|\n|    Kylynn|   Lockart|\n|       Rey|    Meharg|\n|      Kerr|    Braden|\n|    Mickie| Whanstall|\n|    Kaspar|     Pally|\n|    Norbie|    Gwyllt|\n|    Claude|    Briant|\n|     Thain|    Habbon|\n|  Tiffanie|  Pattison|\n|    Ettore|  Gerriets|\n+----------+----------+\nonly showing top 20 rows\n\n"
     ]
    }
   ],
   "source": [
    "df.select(\"first_name\",\"last_name\").show()"
   ]
  },
  {
   "cell_type": "code",
   "execution_count": 0,
   "metadata": {
    "application/vnd.databricks.v1+cell": {
     "cellMetadata": {
      "byteLimit": 2048000,
      "rowLimit": 10000
     },
     "inputWidgets": {},
     "nuid": "48aa1579-d5fb-479c-9bc7-f3a87c6f8067",
     "showTitle": false,
     "title": ""
    }
   },
   "outputs": [
    {
     "output_type": "stream",
     "name": "stdout",
     "output_type": "stream",
     "text": [
      "+---+--------+----------+------+---------------+--------------------+---------+----------+-----------+\n| id|      fn| last_name|gender|           City|            JobTitle|   Salary|  Latitude|  Longitude|\n+---+--------+----------+------+---------------+--------------------+---------+----------+-----------+\n|  1| Melinde| Shilburne|Female|      Nowa Ruda| Assistant Professor|$57438.18|50.5774075| 16.4967184|\n|  2|Kimberly|Von Welden|Female|         Bulgan|       Programmer II|$62846.60|48.8231572|103.5218199|\n|  3|  Alvera|  Di Boldi|Female|           null|                null|$57576.52|39.9947462|116.3397725|\n|  4| Shannon| O'Griffin|  Male|  Divnomorskoye|Budget/Accounting...|$61489.23|44.5047212| 38.1300171|\n|  5|Sherwood|   Macieja|  Male|      Mytishchi|            VP Sales|$63863.09|      null| 37.6489954|\n|  6|   Maris|      Folk|Female|Kinsealy-Drinan|      Civil Engineer|$30101.16|53.4266145| -6.1644997|\n|  7|   Masha|    Divers|Female|         Dachun|                null|$25090.87| 24.879416| 118.930111|\n|  8| Goddart|     Flear|  Male|      Trélissac|Desktop Support T...|$46116.36|45.1905186|  0.7423124|\n|  9|    Roth|O'Cannavan|  Male|         Heitan|VP Product Manage...|$73697.10| 32.027934| 106.657113|\n| 10|    Bran|   Trahear|  Male|       Arbeláez|Mechanical System...|$68098.42|  4.272793| -74.416014|\n| 11|  Kylynn|   Lockart|Female|       El Cardo|Nuclear Power Eng...|$13604.63|     -5.85|-79.8833329|\n| 12|     Rey|    Meharg|Female|    Wangqingtuo|Systems Administr...|$73423.70| 39.172378| 116.931607|\n| 13|    Kerr|    Braden|  Male|      Sułkowice|Compensation Analyst|$33432.99|49.8151822| 19.3771749|\n| 14|  Mickie| Whanstall|  Male|    Springfield|Assistant Media P...|$50838.53|42.1014803|-72.5766759|\n| 15|  Kaspar|     Pally|  Male|         Chrást|  Analyst Programmer|$40163.03|49.7923299| 13.4915324|\n| 16|  Norbie|    Gwyllt|  Male|         Xijiao|              Editor|$32492.73|43.4945737|  5.8978018|\n| 17|  Claude|    Briant|Female|      Mieścisko|Research Assistan...|$51862.48|52.7441662| 17.3278637|\n| 18|   Thain|    Habbon|  Male| Foros do Trapo|     Design Engineer|$42135.67| 38.696249| -8.7098337|\n| 19|Tiffanie|  Pattison|Female|    Jabungsisir|Senior Financial ...|$91925.08|-7.7232567|113.4686802|\n| 20|  Ettore|  Gerriets|  Male|          Pedra| Staff Accountant IV|$73921.33|40.7172049| -8.3625148|\n+---+--------+----------+------+---------------+--------------------+---------+----------+-----------+\nonly showing top 20 rows\n\n"
     ]
    }
   ],
   "source": [
    "df.withColumnRenamed(\"first_name\",\"fn\").show()"
   ]
  },
  {
   "cell_type": "code",
   "execution_count": 0,
   "metadata": {
    "application/vnd.databricks.v1+cell": {
     "cellMetadata": {
      "byteLimit": 2048000,
      "rowLimit": 10000
     },
     "inputWidgets": {},
     "nuid": "9c4b6c42-2b3a-45c7-a694-b988b5232eb9",
     "showTitle": false,
     "title": ""
    }
   },
   "outputs": [
    {
     "output_type": "stream",
     "name": "stdout",
     "output_type": "stream",
     "text": [
      "+---+----------+---------+------+---------+--------------------+---------+----------+---------+\n| id|first_name|last_name|gender|     City|            JobTitle|   Salary|  Latitude|Longitude|\n+---+----------+---------+------+---------+--------------------+---------+----------+---------+\n|  8|   Goddart|    Flear|  Male|Trélissac|Desktop Support T...|$46116.36|45.1905186|0.7423124|\n+---+----------+---------+------+---------+--------------------+---------+----------+---------+\n\n"
     ]
    }
   ],
   "source": [
    "df.filter(df.first_name=='Goddart').show()"
   ]
  },
  {
   "cell_type": "code",
   "execution_count": 0,
   "metadata": {
    "application/vnd.databricks.v1+cell": {
     "cellMetadata": {
      "byteLimit": 2048000,
      "rowLimit": 10000
     },
     "inputWidgets": {},
     "nuid": "74b42664-085b-420e-bcb6-abc779d5f8f1",
     "showTitle": false,
     "title": ""
    }
   },
   "outputs": [
    {
     "output_type": "stream",
     "name": "stdout",
     "output_type": "stream",
     "text": [
      "+---+----------+---------+------+----+--------+---------+----------+-----------+\n| id|first_name|last_name|gender|City|JobTitle|   Salary|  Latitude|  Longitude|\n+---+----------+---------+------+----+--------+---------+----------+-----------+\n|  3|    Alvera| Di Boldi|Female|null|    null|$57576.52|39.9947462|116.3397725|\n+---+----------+---------+------+----+--------+---------+----------+-----------+\n\n"
     ]
    }
   ],
   "source": [
    "df.filter(df.first_name.like('%lvera')).show()"
   ]
  },
  {
   "cell_type": "code",
   "execution_count": 0,
   "metadata": {
    "application/vnd.databricks.v1+cell": {
     "cellMetadata": {
      "byteLimit": 2048000,
      "rowLimit": 10000
     },
     "inputWidgets": {},
     "nuid": "adfb22b1-1e21-49bd-9e23-3de1a3ac6453",
     "showTitle": false,
     "title": ""
    }
   },
   "outputs": [
    {
     "output_type": "stream",
     "name": "stdout",
     "output_type": "stream",
     "text": [
      "+---+----------+-------------+------+-----------+--------+---------+-----------+----------+\n| id|first_name|    last_name|gender|       City|JobTitle|   Salary|   Latitude| Longitude|\n+---+----------+-------------+------+-----------+--------+---------+-----------+----------+\n|901|     Aldin|Matuszkiewicz|  Male|East London|Operator|$41468.83|-32.9549324|27.9319131|\n+---+----------+-------------+------+-----------+--------+---------+-----------+----------+\n\n"
     ]
    }
   ],
   "source": [
    "df.filter(df.first_name.endswith('din')).show()"
   ]
  },
  {
   "cell_type": "code",
   "execution_count": 0,
   "metadata": {
    "application/vnd.databricks.v1+cell": {
     "cellMetadata": {
      "byteLimit": 2048000,
      "rowLimit": 10000
     },
     "inputWidgets": {},
     "nuid": "91032a3e-e15c-43a7-bc6e-2ac6bb867a43",
     "showTitle": false,
     "title": ""
    }
   },
   "outputs": [
    {
     "output_type": "stream",
     "name": "stdout",
     "output_type": "stream",
     "text": [
      "+---+----------+----------+------+--------------------+--------------------+---------+----------+-----------+\n| id|first_name| last_name|gender|                City|            JobTitle|   Salary|  Latitude|  Longitude|\n+---+----------+----------+------+--------------------+--------------------+---------+----------+-----------+\n|  3|    Alvera|  Di Boldi|Female|                null|                null|$57576.52|39.9947462|116.3397725|\n| 21|      Alon|  Chasteau|  Male|               Xin’e|     Web Developer I|$62755.85|  49.16291|  127.98658|\n| 55|   Addison|   Goudard|  Male|Palmas De Gran Ca...|Safety Technician IV|$91642.24|28.0990178|-15.4203257|\n| 61|      Adam|   Seagood|  Male|         Krajan Siki|  Research Associate|$28660.11|   -8.1831|   111.5359|\n| 63|    Antone|      Erie|  Male|          Bilohirs’k|  Help Desk Operator|$51271.99|45.0577954|  34.605095|\n| 81|     Alvin|     Doman|  Male|                Niny|Research Assistant I|$53258.86|44.4868448| 43.9408057|\n|100|      Aime|   Phlippi|Female|       Leshukonskoye|   Account Executive|$15428.49|64.8973466| 45.7651734|\n|101|     Alene|       Odd|Female|       María la Baja|Accounting Assist...|$37379.03| 9.9141597|-75.4111644|\n|110| Annadiana|    Keward|Female|              Jiashi|           Paralegal|$23456.67| 39.488181|  76.723719|\n|112|    Andros|   De Metz|  Male|             Cuogang|   Director of Sales|$11832.43|50.0588756| 23.9736471|\n|115|    Allard|    Cordel|  Male|           Mieścisko|Compensation Analyst|$18907.81|45.8630194|   5.947966|\n|117|      Alli|   Mc Pake|Female|              Gerong|     Staff Scientist|$58172.73|-6.2002533|106.8221628|\n|132|    Andrus|     Shinn|  Male|             Siguiri|       Senior Editor|$43934.36|11.4148113| -9.1788304|\n|135|    Aubrie|  Swyndley|Female|Jarošov nad Nežárkou|    Internal Auditor|$82905.58|49.1912902| 15.0524346|\n|140|     Andie|   Ernshaw|Female|               Casma| Executive Secretary|$58377.47|-9.4718308|-78.3006626|\n|160|     Alane|Southworth|Female|           Eindhoven|Programmer Analyst I|$24042.10|51.4131558|  5.4852794|\n|162|     Angel|    Stripp|  Male|           Otradnaya|Analog Circuit De...|$38294.01|44.3559175| 41.5113076|\n|181|    Amitie|    Stibbs|Female|              Dingle|             Teacher|$47861.51|10.9991938|122.6717828|\n|193|    Alfons| Dumbleton|  Male|               Shūsh|Research Assistan...|$88389.56|32.1957948|  48.254283|\n|203|     Arley|    Ullock|  Male|              Burgau|        Food Chemist|$42895.45|37.0734616| -8.7751983|\n+---+----------+----------+------+--------------------+--------------------+---------+----------+-----------+\nonly showing top 20 rows\n\n"
     ]
    }
   ],
   "source": [
    "df.filter(df.first_name.startswith('A')).show()"
   ]
  },
  {
   "cell_type": "code",
   "execution_count": 0,
   "metadata": {
    "application/vnd.databricks.v1+cell": {
     "cellMetadata": {
      "byteLimit": 2048000,
      "rowLimit": 10000
     },
     "inputWidgets": {},
     "nuid": "79314102-d604-478e-a9a8-1181a3e9f397",
     "showTitle": false,
     "title": ""
    }
   },
   "outputs": [
    {
     "output_type": "stream",
     "name": "stdout",
     "output_type": "stream",
     "text": [
      "+---+----------+----------+------+-------------+--------------------+---------+----------+-----------+\n| id|first_name| last_name|gender|         City|            JobTitle|   Salary|  Latitude|  Longitude|\n+---+----------+----------+------+-------------+--------------------+---------+----------+-----------+\n|  1|   Melinde| Shilburne|Female|    Nowa Ruda| Assistant Professor|$57438.18|50.5774075| 16.4967184|\n|  2|  Kimberly|Von Welden|Female|       Bulgan|       Programmer II|$62846.60|48.8231572|103.5218199|\n|  3|    Alvera|  Di Boldi|Female|         null|                null|$57576.52|39.9947462|116.3397725|\n|  4|   Shannon| O'Griffin|  Male|Divnomorskoye|Budget/Accounting...|$61489.23|44.5047212| 38.1300171|\n|  5|  Sherwood|   Macieja|  Male|    Mytishchi|            VP Sales|$63863.09|      null| 37.6489954|\n+---+----------+----------+------+-------------+--------------------+---------+----------+-----------+\n\n"
     ]
    }
   ],
   "source": [
    "df.filter(df.id.between(1,5)).show()"
   ]
  },
  {
   "cell_type": "code",
   "execution_count": 0,
   "metadata": {
    "application/vnd.databricks.v1+cell": {
     "cellMetadata": {
      "byteLimit": 2048000,
      "rowLimit": 10000
     },
     "inputWidgets": {},
     "nuid": "f3664a57-6973-42ef-ba6d-0686f85da8b5",
     "showTitle": false,
     "title": ""
    }
   },
   "outputs": [
    {
     "output_type": "stream",
     "name": "stdout",
     "output_type": "stream",
     "text": [
      "+---+----------+----------+------+-------------+--------------------+---------+----------+-----------+\n| id|first_name| last_name|gender|         City|            JobTitle|   Salary|  Latitude|  Longitude|\n+---+----------+----------+------+-------------+--------------------+---------+----------+-----------+\n|  2|  Kimberly|Von Welden|Female|       Bulgan|       Programmer II|$62846.60|48.8231572|103.5218199|\n|  3|    Alvera|  Di Boldi|Female|         null|                null|$57576.52|39.9947462|116.3397725|\n|  4|   Shannon| O'Griffin|  Male|Divnomorskoye|Budget/Accounting...|$61489.23|44.5047212| 38.1300171|\n+---+----------+----------+------+-------------+--------------------+---------+----------+-----------+\n\n"
     ]
    }
   ],
   "source": [
    "df.filter(df.first_name.isin('Alvera','Kimberly','Shannon')).show()"
   ]
  },
  {
   "cell_type": "code",
   "execution_count": 0,
   "metadata": {
    "application/vnd.databricks.v1+cell": {
     "cellMetadata": {
      "byteLimit": 2048000,
      "rowLimit": 10000
     },
     "inputWidgets": {},
     "nuid": "a130ed2b-f466-4e60-a974-3f6d2403e9af",
     "showTitle": false,
     "title": ""
    }
   },
   "outputs": [
    {
     "output_type": "stream",
     "name": "stdout",
     "output_type": "stream",
     "text": [
      "+----------+----+\n|first_name|name|\n+----------+----+\n|   Melinde|Meli|\n|  Kimberly|Kimb|\n|    Alvera|Alve|\n|   Shannon|Shan|\n|  Sherwood|Sher|\n|     Maris|Mari|\n|     Masha|Mash|\n|   Goddart|Godd|\n|      Roth|Roth|\n|      Bran|Bran|\n|    Kylynn|Kyly|\n|       Rey| Rey|\n|      Kerr|Kerr|\n|    Mickie|Mick|\n|    Kaspar|Kasp|\n|    Norbie|Norb|\n|    Claude|Clau|\n|     Thain|Thai|\n|  Tiffanie|Tiff|\n|    Ettore|Etto|\n+----------+----+\nonly showing top 20 rows\n\n"
     ]
    }
   ],
   "source": [
    "df.select(\"first_name\",df.first_name.substr(1,4).alias(\"name\")).show()"
   ]
  },
  {
   "cell_type": "code",
   "execution_count": 0,
   "metadata": {
    "application/vnd.databricks.v1+cell": {
     "cellMetadata": {
      "byteLimit": 2048000,
      "rowLimit": 10000
     },
     "inputWidgets": {},
     "nuid": "6820320d-4c27-4bb5-976d-730fba5fa6f9",
     "showTitle": false,
     "title": ""
    }
   },
   "outputs": [
    {
     "output_type": "display_data",
     "data": {
      "text/html": [
       "<style scoped>\n",
       "  .table-result-container {\n",
       "    max-height: 300px;\n",
       "    overflow: auto;\n",
       "  }\n",
       "  table, th, td {\n",
       "    border: 1px solid black;\n",
       "    border-collapse: collapse;\n",
       "  }\n",
       "  th, td {\n",
       "    padding: 5px;\n",
       "  }\n",
       "  th {\n",
       "    text-align: left;\n",
       "  }\n",
       "</style><div class='table-result-container'><table class='table-result'><thead style='background-color: white'><tr><th>path</th><th>name</th><th>size</th><th>modificationTime</th></tr></thead><tbody><tr><td>dbfs:/FileStore/shared_uploads/athiyastudies@gmail.com/1_05KB_JSON_File_FreeTestData.json</td><td>1_05KB_JSON_File_FreeTestData.json</td><td>1085</td><td>1701363773000</td></tr><tr><td>dbfs:/FileStore/shared_uploads/athiyastudies@gmail.com/Employee-1.csv</td><td>Employee-1.csv</td><td>70</td><td>1701190152000</td></tr><tr><td>dbfs:/FileStore/shared_uploads/athiyastudies@gmail.com/Employee-2.csv</td><td>Employee-2.csv</td><td>70</td><td>1701190297000</td></tr><tr><td>dbfs:/FileStore/shared_uploads/athiyastudies@gmail.com/Employee.csv</td><td>Employee.csv</td><td>70</td><td>1701189859000</td></tr><tr><td>dbfs:/FileStore/shared_uploads/athiyastudies@gmail.com/original.csv</td><td>original.csv</td><td>86874</td><td>1701355862000</td></tr><tr><td>dbfs:/FileStore/shared_uploads/athiyastudies@gmail.com/part_00000_a9e77425_5fb4_456f_ba52_f821123bd193_c000_snappy.parquet</td><td>part_00000_a9e77425_5fb4_456f_ba52_f821123bd193_c000_snappy.parquet</td><td>69287</td><td>1701535477000</td></tr><tr><td>dbfs:/FileStore/shared_uploads/athiyastudies@gmail.com/part_00001_a9e77425_5fb4_456f_ba52_f821123bd193_c000_snappy.parquet</td><td>part_00001_a9e77425_5fb4_456f_ba52_f821123bd193_c000_snappy.parquet</td><td>70198</td><td>1701617471000</td></tr><tr><td>dbfs:/FileStore/shared_uploads/athiyastudies@gmail.com/sample1.json</td><td>sample1.json</td><td>65</td><td>1701365061000</td></tr><tr><td>dbfs:/FileStore/shared_uploads/athiyastudies@gmail.com/samplejsonFile/</td><td>samplejsonFile/</td><td>0</td><td>0</td></tr><tr><td>dbfs:/FileStore/shared_uploads/athiyastudies@gmail.com/samplejsonFiles/</td><td>samplejsonFiles/</td><td>0</td><td>0</td></tr></tbody></table></div>"
      ]
     },
     "metadata": {
      "application/vnd.databricks.v1+output": {
       "addedWidgets": {},
       "aggData": [],
       "aggError": "",
       "aggOverflow": false,
       "aggSchema": [],
       "aggSeriesLimitReached": false,
       "aggType": "",
       "arguments": {},
       "columnCustomDisplayInfos": {},
       "data": [
        [
         "dbfs:/FileStore/shared_uploads/athiyastudies@gmail.com/1_05KB_JSON_File_FreeTestData.json",
         "1_05KB_JSON_File_FreeTestData.json",
         1085,
         1701363773000
        ],
        [
         "dbfs:/FileStore/shared_uploads/athiyastudies@gmail.com/Employee-1.csv",
         "Employee-1.csv",
         70,
         1701190152000
        ],
        [
         "dbfs:/FileStore/shared_uploads/athiyastudies@gmail.com/Employee-2.csv",
         "Employee-2.csv",
         70,
         1701190297000
        ],
        [
         "dbfs:/FileStore/shared_uploads/athiyastudies@gmail.com/Employee.csv",
         "Employee.csv",
         70,
         1701189859000
        ],
        [
         "dbfs:/FileStore/shared_uploads/athiyastudies@gmail.com/original.csv",
         "original.csv",
         86874,
         1701355862000
        ],
        [
         "dbfs:/FileStore/shared_uploads/athiyastudies@gmail.com/part_00000_a9e77425_5fb4_456f_ba52_f821123bd193_c000_snappy.parquet",
         "part_00000_a9e77425_5fb4_456f_ba52_f821123bd193_c000_snappy.parquet",
         69287,
         1701535477000
        ],
        [
         "dbfs:/FileStore/shared_uploads/athiyastudies@gmail.com/part_00001_a9e77425_5fb4_456f_ba52_f821123bd193_c000_snappy.parquet",
         "part_00001_a9e77425_5fb4_456f_ba52_f821123bd193_c000_snappy.parquet",
         70198,
         1701617471000
        ],
        [
         "dbfs:/FileStore/shared_uploads/athiyastudies@gmail.com/sample1.json",
         "sample1.json",
         65,
         1701365061000
        ],
        [
         "dbfs:/FileStore/shared_uploads/athiyastudies@gmail.com/samplejsonFile/",
         "samplejsonFile/",
         0,
         0
        ],
        [
         "dbfs:/FileStore/shared_uploads/athiyastudies@gmail.com/samplejsonFiles/",
         "samplejsonFiles/",
         0,
         0
        ]
       ],
       "datasetInfos": [],
       "dbfsResultPath": null,
       "isJsonSchema": true,
       "metadata": {
        "isDbfsCommandResult": false
       },
       "overflow": false,
       "plotOptions": {
        "customPlotOptions": {},
        "displayType": "table",
        "pivotAggregation": null,
        "pivotColumns": null,
        "xColumns": null,
        "yColumns": null
       },
       "removedWidgets": [],
       "schema": [
        {
         "metadata": "{}",
         "name": "path",
         "type": "\"string\""
        },
        {
         "metadata": "{}",
         "name": "name",
         "type": "\"string\""
        },
        {
         "metadata": "{}",
         "name": "size",
         "type": "\"long\""
        },
        {
         "metadata": "{}",
         "name": "modificationTime",
         "type": "\"long\""
        }
       ],
       "type": "table"
      }
     },
     "output_type": "display_data"
    }
   ],
   "source": [
    "%fs ls dbfs:/FileStore/shared_uploads/athiyastudies@gmail.com/"
   ]
  },
  {
   "cell_type": "code",
   "execution_count": 0,
   "metadata": {
    "application/vnd.databricks.v1+cell": {
     "cellMetadata": {},
     "inputWidgets": {},
     "nuid": "7a7e0754-6972-4b92-a8cf-056236646941",
     "showTitle": false,
     "title": ""
    }
   },
   "outputs": [],
   "source": []
  }
 ],
 "metadata": {
  "application/vnd.databricks.v1+notebook": {
   "dashboards": [],
   "language": "python",
   "notebookMetadata": {
    "mostRecentlyExecutedCommandWithImplicitDF": {
     "commandId": 687502268573651,
     "dataframes": [
      "_sqldf"
     ]
    },
    "pythonIndentUnit": 4
   },
   "notebookName": "Selecting_and_Filtering_data",
   "widgets": {}
  }
 },
 "nbformat": 4,
 "nbformat_minor": 0
}
